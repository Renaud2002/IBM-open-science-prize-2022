{
 "cells": [
  {
   "cell_type": "code",
   "execution_count": 9,
   "metadata": {},
   "outputs": [],
   "source": [
    "import numpy as np\n",
    "\n",
    "from time import time\n",
    "\n",
    "import matplotlib.pyplot as plt\n",
    "plt.rcParams.update({\"font.size\": 16})  # enlarge matplotlib fonts\n",
    "\n",
    "import rustworkx as rx\n",
    "\n",
    "from qiskit_nature.problems.second_quantization.lattice import Lattice\n",
    "\n",
    "# Custom Heisenberg couplings\n",
    "import sys\n",
    "sys.path.append(r'.')  # may be needed if running notebook on a cloud service\n",
    "from heisenberg_model import HeisenbergModel\n",
    "from qiskit_nature.mappers.second_quantization import LogarithmicMapper\n",
    "\n",
    "from qiskit.quantum_info import SparsePauliOp\n",
    "from qiskit.algorithms import NumPyEigensolver\n",
    "from qiskit.opflow.primitive_ops.pauli_sum_op import PauliSumOp\n",
    "\n",
    "from qiskit.circuit import Parameter\n",
    "from qiskit import QuantumCircuit\n",
    "from qiskit_ibm_runtime import QiskitRuntimeService, Estimator, Session, Options\n",
    "from qiskit.algorithms.minimum_eigensolvers import VQE"
   ]
  },
  {
   "cell_type": "code",
   "execution_count": 10,
   "metadata": {},
   "outputs": [],
   "source": [
    "import pstring as ps\n",
    "import grouping\n",
    "import tableau as tabl\n",
    "import tableau_operations as tab_op\n",
    "import diagonalize as dg\n",
    "import load_data\n",
    "import algorithm"
   ]
  },
  {
   "cell_type": "code",
   "execution_count": 11,
   "metadata": {},
   "outputs": [
    {
     "data": {
      "image/png": "[encoded data removed]",
      "text/plain": [
       "<Figure size 432x288 with 1 Axes>"
      ]
     },
     "metadata": {},
     "output_type": "display_data"
    }
   ],
   "source": [
    "# Kagome unit cell\n",
    "num_sites = 12\n",
    "# Edge weight\n",
    "t = 1.0\n",
    "\n",
    "# Generate graph of kagome unit cell\n",
    "# Start by defining all the edges\n",
    "graph = rx.PyGraph(multigraph=False)\n",
    "graph.add_nodes_from(range(num_sites))\n",
    "edge_list = [\n",
    "    (0, 1, t),\n",
    "    (1, 2, t),\n",
    "    (2, 3, t),\n",
    "    (3, 4, t),\n",
    "    (4, 5, t),\n",
    "    (5, 0, t),\n",
    "    (0, 6, t),\n",
    "    (1, 6, t),\n",
    "    (1, 7, t),\n",
    "    (2, 7, t),\n",
    "    (2, 8, t),\n",
    "    (3, 8, t),\n",
    "    (3, 9, t),\n",
    "    (4, 9, t),\n",
    "    (4, 10, t),\n",
    "    (5, 10, t),\n",
    "    (5, 11, t),\n",
    "    (0, 11, t),\n",
    "]\n",
    "# Generate graph from the list of edges\n",
    "graph.add_edges_from(edge_list)\n",
    "\n",
    "# Make a Lattice from graph\n",
    "kagome_unit_cell = Lattice(graph)\n",
    "\n",
    "# Draw Lattice\n",
    "kagome_unit_cell.draw(style={'node_color':'purple'})\n",
    "# plt.savefig('kagome_unit_cell.png')\n",
    "plt.show()"
   ]
  },
  {
   "cell_type": "code",
   "execution_count": 12,
   "metadata": {},
   "outputs": [
    {
     "data": {
      "text/plain": [
       "PauliSumOp(SparsePauliOp(['ZIIIIIZIIIII', 'IZIIIIZIIIII', 'IZIIIIIZIIII', 'IIZIIIIZIIII', 'IIIIIIZZIIII', 'IIZIIIIIZIII', 'IIIZIIIIZIII', 'IIIIIIIZZIII', 'IIIZIIIIIZII', 'IIIIZIIIIZII', 'IIIIIIIIZZII', 'IIIIZIIIIIZI', 'IIIIIZIIIIZI', 'IIIIIIIIIZZI', 'ZIIIIIIIIIIZ', 'IIIIIZIIIIIZ', 'IIIIIIZIIIIZ', 'IIIIIIIIIIZZ', 'YIIIIIYIIIII', 'IYIIIIYIIIII', 'IYIIIIIYIIII', 'IIYIIIIYIIII', 'IIIIIIYYIIII', 'IIYIIIIIYIII', 'IIIYIIIIYIII', 'IIIIIIIYYIII', 'IIIYIIIIIYII', 'IIIIYIIIIYII', 'IIIIIIIIYYII', 'IIIIYIIIIIYI', 'IIIIIYIIIIYI', 'IIIIIIIIIYYI', 'YIIIIIIIIIIY', 'IIIIIYIIIIIY', 'IIIIIIYIIIIY', 'IIIIIIIIIIYY', 'XIIIIIXIIIII', 'IXIIIIXIIIII', 'IXIIIIIXIIII', 'IIXIIIIXIIII', 'IIIIIIXXIIII', 'IIXIIIIIXIII', 'IIIXIIIIXIII', 'IIIIIIIXXIII', 'IIIXIIIIIXII', 'IIIIXIIIIXII', 'IIIIIIIIXXII', 'IIIIXIIIIIXI', 'IIIIIXIIIIXI', 'IIIIIIIIIXXI', 'XIIIIIIIIIIX', 'IIIIIXIIIIIX', 'IIIIIIXIIIIX', 'IIIIIIIIIIXX'],\n",
       "              coeffs=[1.+0.j, 1.+0.j, 1.+0.j, 1.+0.j, 1.+0.j, 1.+0.j, 1.+0.j, 1.+0.j, 1.+0.j,\n",
       " 1.+0.j, 1.+0.j, 1.+0.j, 1.+0.j, 1.+0.j, 1.+0.j, 1.+0.j, 1.+0.j, 1.+0.j,\n",
       " 1.+0.j, 1.+0.j, 1.+0.j, 1.+0.j, 1.+0.j, 1.+0.j, 1.+0.j, 1.+0.j, 1.+0.j,\n",
       " 1.+0.j, 1.+0.j, 1.+0.j, 1.+0.j, 1.+0.j, 1.+0.j, 1.+0.j, 1.+0.j, 1.+0.j,\n",
       " 1.+0.j, 1.+0.j, 1.+0.j, 1.+0.j, 1.+0.j, 1.+0.j, 1.+0.j, 1.+0.j, 1.+0.j,\n",
       " 1.+0.j, 1.+0.j, 1.+0.j, 1.+0.j, 1.+0.j, 1.+0.j, 1.+0.j, 1.+0.j, 1.+0.j]), coeff=1)"
      ]
     },
     "execution_count": 12,
     "metadata": {},
     "output_type": "execute_result"
    }
   ],
   "source": [
    "# Build Hamiltonian from graph edges\n",
    "heis = HeisenbergModel.uniform_parameters(\n",
    "    lattice=kagome_unit_cell,\n",
    "    uniform_interaction=1.0,  # same spin-spin interaction weight as used in graph\n",
    "    uniform_onsite_potential=0.0,  # No singe site external field\n",
    ")\n",
    "\n",
    "# The Lattice needs an explicit mapping to the qubit states.\n",
    "# We map 1 qubit for 1 spin-1/2 particle using the LogarithmicMapper\n",
    "log_mapper = LogarithmicMapper()\n",
    "# Multiply by factor of 4 to account for (1/2)^2 terms from spin operators in the HeisenbergModel\n",
    "ham = 4 * log_mapper.map(heis.second_q_ops().simplify())\n",
    "# Print Hamiltonian to check it's what we expect.\n",
    "# There are 18 edges and 3 terms per edge (XX, YY, and ZZ),\n",
    "# so there should be 54 equally weighted terms.\n",
    "ham"
   ]
  },
  {
   "cell_type": "code",
   "execution_count": 80,
   "metadata": {},
   "outputs": [],
   "source": [
    "# get the hamiltonian in my pstrings implementation\n",
    "# helper function\n",
    "to_num_map = {\"I\":0, \"X\":1, \"Y\":2, \"Z\":3}\n",
    "def to_numerical(pauli_string):\n",
    "    \n",
    "    return ''.join([str(to_num_map[p]) for p in pauli_string])\n",
    "# Get the Pauli operators \n",
    "ham_strings = [ps.pstring(to_numerical(term.to_pauli_op().primitive.to_label()), term.coeff) for term in ham]\n",
    "def diagonalize_cluster(cluster):\n",
    "    \n",
    "    # diagonalize\n",
    "    x,z,s,u = dg.main_diagonalizer(cluster)\n",
    "    \n",
    "    return x,z,s,u\n",
    "diagonalizations = {c:diagonalize_cluster(clusters[c]) for c in range(3)}\n",
    "clusters = grouping.make_clusters(ham_strings)\n",
    "gs2 = \"111101100110\""
   ]
  },
  {
   "cell_type": "code",
   "execution_count": 120,
   "metadata": {},
   "outputs": [],
   "source": [
    "def make_circuit_layer(cl, l):\n",
    "\n",
    "    qc = QuantumCircuit(12)\n",
    "    cluster = clusters[cl]\n",
    "    _,Z,S,U = diagonalizations[cl]\n",
    "    Z = np.array(Z)\n",
    "    S = np.array(S)\n",
    "\n",
    "    qc = qc.compose(U)\n",
    "\n",
    "    for p in range(len(Z)):\n",
    "        pauli = Z[p]\n",
    "        s = S[p]\n",
    "        pivots = []\n",
    "        param = Parameter(f\"Theta{cl, l,p}\")\n",
    "        for c in range(len(pauli)):\n",
    "\n",
    "            if pauli[c] == 1:\n",
    "                pivots.append(c)\n",
    "        \n",
    "        if len(pivots) != 2:\n",
    "            print(\"oups\")\n",
    "        qc.cx(pivots[0], pivots[1])\n",
    "\n",
    "        qc.rz(2 * (-1)**s * param, pivots[1])\n",
    "\n",
    "        qc.cx(pivots[0], pivots[1])\n",
    "    \n",
    "    qc = qc.compose(U.inverse())\n",
    "\n",
    "    return qc\n",
    "\n",
    "def make_layers(L):\n",
    "    qc = QuantumCircuit(12)\n",
    "    for l in range(L):\n",
    "        tmp = QuantumCircuit(12)\n",
    "        tmp = tmp.compose(make_circuit_layer(0,l))\n",
    "        tmp = tmp.compose(make_circuit_layer(2,l))\n",
    "        tmp = tmp.compose(make_circuit_layer(1,l))\n",
    "\n",
    "        qc = qc.compose(tmp)\n",
    "    \n",
    "    return qc"
   ]
  },
  {
   "cell_type": "code",
   "execution_count": 161,
   "metadata": {},
   "outputs": [],
   "source": [
    "def build_ansatz(L):\n",
    "\n",
    "    ansatz = make_circuit_layer(2,-1)\n",
    "    for c in range(len(gs2)):\n",
    "        \n",
    "        if gs2[c] == \"1\":\n",
    "            ansatz.x(c)\n",
    "        \n",
    "        # try:\n",
    "        #     ansatz.cx(c,c+1)\n",
    "        # except:\n",
    "        #     pass\n",
    "    \n",
    "    qc = make_layers(L)\n",
    "    ansatz = qc.compose(ansatz)\n",
    "\n",
    "    return ansatz"
   ]
  },
  {
   "cell_type": "code",
   "execution_count": 162,
   "metadata": {},
   "outputs": [],
   "source": [
    "# simulate\n",
    "service = QiskitRuntimeService()\n",
    "\n",
    "backend = \"ibmq_qasm_simulator\""
   ]
  },
  {
   "cell_type": "code",
   "execution_count": 163,
   "metadata": {},
   "outputs": [],
   "source": [
    "# Use RealAmplitudes circuit to create trial states\n",
    "from qiskit.circuit.library import RealAmplitudes\n",
    "\n",
    "#ansatz = RealAmplitudes(num_qubits=2, reps=2)\n",
    "\n",
    "# Search for better states using SPSA algorithm\n",
    "from qiskit.algorithms.optimizers import SPSA\n",
    "\n",
    "optimizer = SPSA(1)\n",
    "\n",
    "\n",
    "np.random.seed(6)\n",
    "#initial_point = np.random.uniform(-np.pi, np.pi, 3*1)\n",
    "\n",
    "# Create an object to store intermediate results\n",
    "from dataclasses import dataclass"
   ]
  },
  {
   "cell_type": "code",
   "execution_count": 164,
   "metadata": {},
   "outputs": [],
   "source": [
    "@dataclass\n",
    "class VQELog:\n",
    "    values: list\n",
    "    parameters: list\n",
    "\n",
    "    def update(self, count, parameters, mean, _metadata):\n",
    "        self.values.append(mean)\n",
    "        self.parameters.append(parameters)\n",
    "        print(f\"Running circuit {count} of ~350\", end=\"\\r\", flush=True)\n",
    "\n",
    "\n",
    "log = VQELog([], [])"
   ]
  },
  {
   "cell_type": "code",
   "execution_count": 165,
   "metadata": {},
   "outputs": [
    {
     "name": "stdout",
     "output_type": "stream",
     "text": [
      "Experiment complete.          \n",
      "Raw result: -0.886\n"
     ]
    }
   ],
   "source": [
    "# Main calculation\n",
    "L = 2\n",
    "initial_point = np.random.uniform(-np.pi, np.pi, 3*18*L + 18)\n",
    "ansatz = build_ansatz(L)\n",
    "hamiltonian = ham\n",
    "\n",
    "optimizer = SPSA(150)\n",
    "\n",
    "with Session(service=service, backend=backend) as session:\n",
    "    options = Options()\n",
    "    options.optimization_level = 1\n",
    "\n",
    "    vqe = VQE(\n",
    "        Estimator(session=session, options=options),\n",
    "        ansatz,\n",
    "        optimizer,\n",
    "        callback=log.update,\n",
    "        initial_point=initial_point,\n",
    "    )\n",
    "    result = vqe.compute_minimum_eigenvalue(ham)\n",
    "    print(\"Experiment complete.\".ljust(30))\n",
    "    print(f\"Raw result: {result.optimal_value}\")\n",
    "\n",
    "    if \"simulator\" not in backend:\n",
    "        # Run once with ZNE error mitigation\n",
    "        options.resilience_level = 1\n",
    "        vqe = VQE(\n",
    "            Estimator(session=session, options=options),\n",
    "            ansatz,\n",
    "            SPSA(150),\n",
    "            initial_point=result.optimal_point,\n",
    "        )\n",
    "        result = vqe.compute_minimum_eigenvalue(hamiltonian)\n",
    "        print(f\"Mitigated result: {result.optimal_value}\")"
   ]
  },
  {
   "cell_type": "code",
   "execution_count": null,
   "metadata": {},
   "outputs": [],
   "source": []
  }
 ],
 "metadata": {
  "kernelspec": {
   "display_name": "base",
   "language": "python",
   "name": "python3"
  },
  "language_info": {
   "codemirror_mode": {
    "name": "ipython",
    "version": 3
   },
   "file_extension": ".py",
   "mimetype": "text/x-python",
   "name": "python",
   "nbconvert_exporter": "python",
   "pygments_lexer": "ipython3",
   "version": "3.9.7"
  },
  "orig_nbformat": 4
 },
 "nbformat": 4,
 "nbformat_minor": 2
}
